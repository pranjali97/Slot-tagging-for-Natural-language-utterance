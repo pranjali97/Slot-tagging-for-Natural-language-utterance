{
  "cells": [
    {
      "cell_type": "markdown",
      "metadata": {
        "id": "DAclENZfQTxe"
      },
      "source": [
        "# Slot **Tagging**"
      ],
      "id": "DAclENZfQTxe"
    },
    {
      "cell_type": "markdown",
      "metadata": {
        "id": "eB-8Iht2Qghv"
      },
      "source": [
        "### Load dataset, libraries and pre-trained embeddings"
      ],
      "id": "eB-8Iht2Qghv"
    },
    {
      "cell_type": "code",
      "execution_count": 282,
      "metadata": {
        "id": "c1f7c6ea-3743-4f62-ac9a-d366a9a3f682"
      },
      "outputs": [],
      "source": [
        "!git clone https://github.com/pranjali97/Slot-tagging-for-Natural-language-utterance.git"
      ],
      "id": "c1f7c6ea-3743-4f62-ac9a-d366a9a3f682"
    },
    {
      "cell_type": "code",
      "execution_count": 283,
      "metadata": {
        "id": "zWMQKfSzHuIc"
      },
      "outputs": [],
      "source": [
        "!wget https://dl.fbaipublicfiles.com/fasttext/vectors-english/wiki-news-300d-1M.vec.zip"
      ],
      "id": "zWMQKfSzHuIc"
    },
    {
      "cell_type": "code",
      "execution_count": 284,
      "metadata": {
        "id": "DOFckrqQHxAZ"
      },
      "outputs": [],
      "source": [
        "!unzip wiki-news-300d-1M.vec.zip"
      ],
      "id": "DOFckrqQHxAZ"
    },
    {
      "cell_type": "code",
      "execution_count": 285,
      "metadata": {
        "colab": {
          "base_uri": "https://localhost:8080/"
        },
        "id": "64b03de5-054a-4d6f-b44a-32b0ef96d14c",
        "outputId": "6fdbd03d-88a7-465e-eb48-802815195c9d"
      },
      "outputs": [
        {
          "output_type": "stream",
          "name": "stdout",
          "text": [
            "Looking in indexes: https://pypi.org/simple, https://us-python.pkg.dev/colab-wheels/public/simple/\n",
            "Requirement already satisfied: torch in /usr/local/lib/python3.7/dist-packages (1.12.1+cu113)\n",
            "Requirement already satisfied: typing-extensions in /usr/local/lib/python3.7/dist-packages (from torch) (4.1.1)\n",
            "Looking in indexes: https://pypi.org/simple, https://us-python.pkg.dev/colab-wheels/public/simple/\n",
            "Requirement already satisfied: contractions in /usr/local/lib/python3.7/dist-packages (0.1.72)\n",
            "Requirement already satisfied: textsearch>=0.0.21 in /usr/local/lib/python3.7/dist-packages (from contractions) (0.0.24)\n",
            "Requirement already satisfied: anyascii in /usr/local/lib/python3.7/dist-packages (from textsearch>=0.0.21->contractions) (0.3.1)\n",
            "Requirement already satisfied: pyahocorasick in /usr/local/lib/python3.7/dist-packages (from textsearch>=0.0.21->contractions) (1.4.4)\n"
          ]
        }
      ],
      "source": [
        "!pip install torch\n",
        "!pip install contractions"
      ],
      "id": "64b03de5-054a-4d6f-b44a-32b0ef96d14c"
    },
    {
      "cell_type": "code",
      "execution_count": 286,
      "metadata": {
        "colab": {
          "base_uri": "https://localhost:8080/"
        },
        "id": "ba156edd-565d-4dbb-8212-896fae69bc2c",
        "outputId": "28c3ed92-70bb-47f3-9db0-7e3a26a0122b"
      },
      "outputs": [
        {
          "output_type": "stream",
          "name": "stderr",
          "text": [
            "[nltk_data] Downloading package stopwords to /root/nltk_data...\n",
            "[nltk_data]   Package stopwords is already up-to-date!\n",
            "[nltk_data] Downloading package omw-1.4 to /root/nltk_data...\n",
            "[nltk_data]   Package omw-1.4 is already up-to-date!\n",
            "[nltk_data] Downloading package wordnet to /root/nltk_data...\n",
            "[nltk_data]   Package wordnet is already up-to-date!\n"
          ]
        }
      ],
      "source": [
        "import torch\n",
        "from torch import nn\n",
        "\n",
        "from torchtext import data\n",
        "\n",
        "import pandas as pd\n",
        "import numpy as np\n",
        "import random\n",
        "import os\n",
        "\n",
        "import nltk\n",
        "from nltk.corpus import stopwords\n",
        "nltk.download('stopwords')\n",
        "stop = stopwords.words('english')\n",
        "nltk.download('omw-1.4')\n",
        "nltk.download('wordnet')\n",
        "\n",
        "from sklearn.metrics import accuracy_score, f1_score\n",
        "from sklearn.preprocessing import MultiLabelBinarizer\n",
        "from sklearn.model_selection import train_test_split\n",
        "from sklearn.feature_extraction.text import TfidfVectorizer\n",
        "import scipy\n",
        "from torch.utils.data import Dataset, DataLoader\n",
        "\n",
        "from tqdm import tqdm\n",
        "\n",
        "import contractions\n",
        "from collections import Counter\n",
        "import pickle\n",
        "from warnings import simplefilter\n",
        "simplefilter(action='ignore', category=FutureWarning)\n",
        "import matplotlib.pyplot as plt\n",
        "import seaborn as sns"
      ],
      "id": "ba156edd-565d-4dbb-8212-896fae69bc2c"
    },
    {
      "cell_type": "code",
      "execution_count": 287,
      "metadata": {
        "colab": {
          "base_uri": "https://localhost:8080/"
        },
        "id": "8f4d710c-453c-4d78-82f7-ba7a8ef04a38",
        "outputId": "48127d1a-1336-4a0c-a9e3-ef229b44e608"
      },
      "outputs": [
        {
          "output_type": "stream",
          "name": "stdout",
          "text": [
            "cpu\n"
          ]
        }
      ],
      "source": [
        "device = 'cuda' if torch.cuda.is_available() else 'cpu'\n",
        "print(device)"
      ],
      "id": "8f4d710c-453c-4d78-82f7-ba7a8ef04a38"
    },
    {
      "cell_type": "code",
      "execution_count": 288,
      "metadata": {
        "colab": {
          "base_uri": "https://localhost:8080/"
        },
        "id": "78bedce9-0982-40c8-b3b8-a849d1f1dff2",
        "outputId": "7e28df6f-7739-4419-b92a-cc11bf164dea"
      },
      "outputs": [
        {
          "output_type": "stream",
          "name": "stdout",
          "text": [
            "Training Samples:  2312\n"
          ]
        }
      ],
      "source": [
        "train = pd.read_csv('Slot-tagging-for-Natural-language-utterance/hw2_train.csv')\n",
        "print('Training Samples: ',train.shape[0])"
      ],
      "id": "78bedce9-0982-40c8-b3b8-a849d1f1dff2"
    },
    {
      "cell_type": "code",
      "execution_count": 289,
      "metadata": {
        "id": "ba8370aa-4aaf-409b-bfe2-abd8de920dd1"
      },
      "outputs": [],
      "source": [
        "train[\"processed_utterances\"]=train['UTTERANCES'].apply(lambda x: contractions.fix(x))\n",
        "train['utterance_length'] = train['UTTERANCES'].apply(lambda x: len(x.split(' ')))\n",
        "train['processed_utterance_length'] = train['processed_utterances'].apply(lambda x: len(x.split(' ')))\n",
        "train['slot_length'] = train['IOB SLOT TAGS'].apply(lambda x: len(x.split(' ')))\n",
        "train['processed_IOB'] = train['IOB SLOT TAGS'].apply(lambda x: x.split(' '))"
      ],
      "id": "ba8370aa-4aaf-409b-bfe2-abd8de920dd1"
    },
    {
      "cell_type": "code",
      "execution_count": 290,
      "metadata": {
        "colab": {
          "base_uri": "https://localhost:8080/"
        },
        "id": "73880a16-88a5-4520-b3b9-ce8ac9b793c9",
        "outputId": "679c31a6-748e-4077-81d2-b7b7a927721f"
      },
      "outputs": [
        {
          "output_type": "execute_result",
          "data": {
            "text/plain": [
              "(2247, 8)"
            ]
          },
          "metadata": {},
          "execution_count": 290
        }
      ],
      "source": [
        "# remove cases where token length didnt match with IOB slots after fixing contractions\n",
        "train= train.query(\"processed_utterance_length == slot_length\")\n",
        "train.shape"
      ],
      "id": "73880a16-88a5-4520-b3b9-ce8ac9b793c9"
    },
    {
      "cell_type": "code",
      "execution_count": 291,
      "metadata": {
        "colab": {
          "base_uri": "https://localhost:8080/",
          "height": 597
        },
        "id": "df690ffe-0b69-4173-867a-705262090773",
        "outputId": "c0c8e61e-94bc-49a3-c24f-02ebc2a31d9b"
      },
      "outputs": [
        {
          "output_type": "execute_result",
          "data": {
            "text/plain": [
              "   ID                                         UTTERANCES  \\\n",
              "0   0               who plays luke on star wars new hope   \n",
              "1   1                     show credits for the godfather   \n",
              "2   2             who was the main actor in the exorcist   \n",
              "3   3  find the female actress from the movie she's t...   \n",
              "4   4                    who played dory on finding nemo   \n",
              "\n",
              "                                   IOB SLOT TAGS  \\\n",
              "0   O O B_char O B_movie I_movie I_movie I_movie   \n",
              "1                          O O O B_movie I_movie   \n",
              "2                    O O O O O O B_movie I_movie   \n",
              "3  O O O O O O O B_movie I_movie I_movie I_movie   \n",
              "4                   O O B_char O B_movie I_movie   \n",
              "\n",
              "                                processed_utterances  utterance_length  \\\n",
              "0               who plays luke on star wars new hope                 8   \n",
              "1                     show credits for the godfather                 5   \n",
              "2             who was the main actor in the exorcist                 8   \n",
              "3  find the female actress from the movie she is ...                10   \n",
              "4                    who played dory on finding nemo                 6   \n",
              "\n",
              "   processed_utterance_length  slot_length  \\\n",
              "0                           8            8   \n",
              "1                           5            5   \n",
              "2                           8            8   \n",
              "3                          11           11   \n",
              "4                           6            6   \n",
              "\n",
              "                                       processed_IOB  \n",
              "0  [O, O, B_char, O, B_movie, I_movie, I_movie, I...  \n",
              "1                        [O, O, O, B_movie, I_movie]  \n",
              "2               [O, O, O, O, O, O, B_movie, I_movie]  \n",
              "3  [O, O, O, O, O, O, O, B_movie, I_movie, I_movi...  \n",
              "4                [O, O, B_char, O, B_movie, I_movie]  "
            ],
            "text/html": [
              "\n",
              "  <div id=\"df-361d86f0-b7c4-4bd5-a675-7d00bbec2be6\">\n",
              "    <div class=\"colab-df-container\">\n",
              "      <div>\n",
              "<style scoped>\n",
              "    .dataframe tbody tr th:only-of-type {\n",
              "        vertical-align: middle;\n",
              "    }\n",
              "\n",
              "    .dataframe tbody tr th {\n",
              "        vertical-align: top;\n",
              "    }\n",
              "\n",
              "    .dataframe thead th {\n",
              "        text-align: right;\n",
              "    }\n",
              "</style>\n",
              "<table border=\"1\" class=\"dataframe\">\n",
              "  <thead>\n",
              "    <tr style=\"text-align: right;\">\n",
              "      <th></th>\n",
              "      <th>ID</th>\n",
              "      <th>UTTERANCES</th>\n",
              "      <th>IOB SLOT TAGS</th>\n",
              "      <th>processed_utterances</th>\n",
              "      <th>utterance_length</th>\n",
              "      <th>processed_utterance_length</th>\n",
              "      <th>slot_length</th>\n",
              "      <th>processed_IOB</th>\n",
              "    </tr>\n",
              "  </thead>\n",
              "  <tbody>\n",
              "    <tr>\n",
              "      <th>0</th>\n",
              "      <td>0</td>\n",
              "      <td>who plays luke on star wars new hope</td>\n",
              "      <td>O O B_char O B_movie I_movie I_movie I_movie</td>\n",
              "      <td>who plays luke on star wars new hope</td>\n",
              "      <td>8</td>\n",
              "      <td>8</td>\n",
              "      <td>8</td>\n",
              "      <td>[O, O, B_char, O, B_movie, I_movie, I_movie, I...</td>\n",
              "    </tr>\n",
              "    <tr>\n",
              "      <th>1</th>\n",
              "      <td>1</td>\n",
              "      <td>show credits for the godfather</td>\n",
              "      <td>O O O B_movie I_movie</td>\n",
              "      <td>show credits for the godfather</td>\n",
              "      <td>5</td>\n",
              "      <td>5</td>\n",
              "      <td>5</td>\n",
              "      <td>[O, O, O, B_movie, I_movie]</td>\n",
              "    </tr>\n",
              "    <tr>\n",
              "      <th>2</th>\n",
              "      <td>2</td>\n",
              "      <td>who was the main actor in the exorcist</td>\n",
              "      <td>O O O O O O B_movie I_movie</td>\n",
              "      <td>who was the main actor in the exorcist</td>\n",
              "      <td>8</td>\n",
              "      <td>8</td>\n",
              "      <td>8</td>\n",
              "      <td>[O, O, O, O, O, O, B_movie, I_movie]</td>\n",
              "    </tr>\n",
              "    <tr>\n",
              "      <th>3</th>\n",
              "      <td>3</td>\n",
              "      <td>find the female actress from the movie she's t...</td>\n",
              "      <td>O O O O O O O B_movie I_movie I_movie I_movie</td>\n",
              "      <td>find the female actress from the movie she is ...</td>\n",
              "      <td>10</td>\n",
              "      <td>11</td>\n",
              "      <td>11</td>\n",
              "      <td>[O, O, O, O, O, O, O, B_movie, I_movie, I_movi...</td>\n",
              "    </tr>\n",
              "    <tr>\n",
              "      <th>4</th>\n",
              "      <td>4</td>\n",
              "      <td>who played dory on finding nemo</td>\n",
              "      <td>O O B_char O B_movie I_movie</td>\n",
              "      <td>who played dory on finding nemo</td>\n",
              "      <td>6</td>\n",
              "      <td>6</td>\n",
              "      <td>6</td>\n",
              "      <td>[O, O, B_char, O, B_movie, I_movie]</td>\n",
              "    </tr>\n",
              "  </tbody>\n",
              "</table>\n",
              "</div>\n",
              "      <button class=\"colab-df-convert\" onclick=\"convertToInteractive('df-361d86f0-b7c4-4bd5-a675-7d00bbec2be6')\"\n",
              "              title=\"Convert this dataframe to an interactive table.\"\n",
              "              style=\"display:none;\">\n",
              "        \n",
              "  <svg xmlns=\"http://www.w3.org/2000/svg\" height=\"24px\"viewBox=\"0 0 24 24\"\n",
              "       width=\"24px\">\n",
              "    <path d=\"M0 0h24v24H0V0z\" fill=\"none\"/>\n",
              "    <path d=\"M18.56 5.44l.94 2.06.94-2.06 2.06-.94-2.06-.94-.94-2.06-.94 2.06-2.06.94zm-11 1L8.5 8.5l.94-2.06 2.06-.94-2.06-.94L8.5 2.5l-.94 2.06-2.06.94zm10 10l.94 2.06.94-2.06 2.06-.94-2.06-.94-.94-2.06-.94 2.06-2.06.94z\"/><path d=\"M17.41 7.96l-1.37-1.37c-.4-.4-.92-.59-1.43-.59-.52 0-1.04.2-1.43.59L10.3 9.45l-7.72 7.72c-.78.78-.78 2.05 0 2.83L4 21.41c.39.39.9.59 1.41.59.51 0 1.02-.2 1.41-.59l7.78-7.78 2.81-2.81c.8-.78.8-2.07 0-2.86zM5.41 20L4 18.59l7.72-7.72 1.47 1.35L5.41 20z\"/>\n",
              "  </svg>\n",
              "      </button>\n",
              "      \n",
              "  <style>\n",
              "    .colab-df-container {\n",
              "      display:flex;\n",
              "      flex-wrap:wrap;\n",
              "      gap: 12px;\n",
              "    }\n",
              "\n",
              "    .colab-df-convert {\n",
              "      background-color: #E8F0FE;\n",
              "      border: none;\n",
              "      border-radius: 50%;\n",
              "      cursor: pointer;\n",
              "      display: none;\n",
              "      fill: #1967D2;\n",
              "      height: 32px;\n",
              "      padding: 0 0 0 0;\n",
              "      width: 32px;\n",
              "    }\n",
              "\n",
              "    .colab-df-convert:hover {\n",
              "      background-color: #E2EBFA;\n",
              "      box-shadow: 0px 1px 2px rgba(60, 64, 67, 0.3), 0px 1px 3px 1px rgba(60, 64, 67, 0.15);\n",
              "      fill: #174EA6;\n",
              "    }\n",
              "\n",
              "    [theme=dark] .colab-df-convert {\n",
              "      background-color: #3B4455;\n",
              "      fill: #D2E3FC;\n",
              "    }\n",
              "\n",
              "    [theme=dark] .colab-df-convert:hover {\n",
              "      background-color: #434B5C;\n",
              "      box-shadow: 0px 1px 3px 1px rgba(0, 0, 0, 0.15);\n",
              "      filter: drop-shadow(0px 1px 2px rgba(0, 0, 0, 0.3));\n",
              "      fill: #FFFFFF;\n",
              "    }\n",
              "  </style>\n",
              "\n",
              "      <script>\n",
              "        const buttonEl =\n",
              "          document.querySelector('#df-361d86f0-b7c4-4bd5-a675-7d00bbec2be6 button.colab-df-convert');\n",
              "        buttonEl.style.display =\n",
              "          google.colab.kernel.accessAllowed ? 'block' : 'none';\n",
              "\n",
              "        async function convertToInteractive(key) {\n",
              "          const element = document.querySelector('#df-361d86f0-b7c4-4bd5-a675-7d00bbec2be6');\n",
              "          const dataTable =\n",
              "            await google.colab.kernel.invokeFunction('convertToInteractive',\n",
              "                                                     [key], {});\n",
              "          if (!dataTable) return;\n",
              "\n",
              "          const docLinkHtml = 'Like what you see? Visit the ' +\n",
              "            '<a target=\"_blank\" href=https://colab.research.google.com/notebooks/data_table.ipynb>data table notebook</a>'\n",
              "            + ' to learn more about interactive tables.';\n",
              "          element.innerHTML = '';\n",
              "          dataTable['output_type'] = 'display_data';\n",
              "          await google.colab.output.renderOutput(dataTable, element);\n",
              "          const docLink = document.createElement('div');\n",
              "          docLink.innerHTML = docLinkHtml;\n",
              "          element.appendChild(docLink);\n",
              "        }\n",
              "      </script>\n",
              "    </div>\n",
              "  </div>\n",
              "  "
            ]
          },
          "metadata": {},
          "execution_count": 291
        }
      ],
      "source": [
        "train.head(5)"
      ],
      "id": "df690ffe-0b69-4173-867a-705262090773"
    },
    {
      "cell_type": "code",
      "execution_count": 292,
      "metadata": {
        "id": "fb3a061e-71a9-4272-94bb-6aa9f98543bd"
      },
      "outputs": [],
      "source": [
        "train = train[['processed_utterances', 'processed_IOB']]\n",
        "train = train.rename(columns={\"processed_utterances\": \"text\", \"processed_IOB\": \"label\"})"
      ],
      "id": "fb3a061e-71a9-4272-94bb-6aa9f98543bd"
    },
    {
      "cell_type": "code",
      "execution_count": 293,
      "metadata": {
        "colab": {
          "base_uri": "https://localhost:8080/",
          "height": 206
        },
        "id": "9GgdUfefdXaW",
        "outputId": "17fe5040-ff20-4ed6-efcf-f5d4610eb9be"
      },
      "outputs": [
        {
          "output_type": "execute_result",
          "data": {
            "text/plain": [
              "                                                text  \\\n",
              "0               who plays luke on star wars new hope   \n",
              "1                     show credits for the godfather   \n",
              "2             who was the main actor in the exorcist   \n",
              "3  find the female actress from the movie she is ...   \n",
              "4                    who played dory on finding nemo   \n",
              "\n",
              "                                               label  \n",
              "0  [O, O, B_char, O, B_movie, I_movie, I_movie, I...  \n",
              "1                        [O, O, O, B_movie, I_movie]  \n",
              "2               [O, O, O, O, O, O, B_movie, I_movie]  \n",
              "3  [O, O, O, O, O, O, O, B_movie, I_movie, I_movi...  \n",
              "4                [O, O, B_char, O, B_movie, I_movie]  "
            ],
            "text/html": [
              "\n",
              "  <div id=\"df-e498fc30-ea26-42d5-b2e3-6067d3948242\">\n",
              "    <div class=\"colab-df-container\">\n",
              "      <div>\n",
              "<style scoped>\n",
              "    .dataframe tbody tr th:only-of-type {\n",
              "        vertical-align: middle;\n",
              "    }\n",
              "\n",
              "    .dataframe tbody tr th {\n",
              "        vertical-align: top;\n",
              "    }\n",
              "\n",
              "    .dataframe thead th {\n",
              "        text-align: right;\n",
              "    }\n",
              "</style>\n",
              "<table border=\"1\" class=\"dataframe\">\n",
              "  <thead>\n",
              "    <tr style=\"text-align: right;\">\n",
              "      <th></th>\n",
              "      <th>text</th>\n",
              "      <th>label</th>\n",
              "    </tr>\n",
              "  </thead>\n",
              "  <tbody>\n",
              "    <tr>\n",
              "      <th>0</th>\n",
              "      <td>who plays luke on star wars new hope</td>\n",
              "      <td>[O, O, B_char, O, B_movie, I_movie, I_movie, I...</td>\n",
              "    </tr>\n",
              "    <tr>\n",
              "      <th>1</th>\n",
              "      <td>show credits for the godfather</td>\n",
              "      <td>[O, O, O, B_movie, I_movie]</td>\n",
              "    </tr>\n",
              "    <tr>\n",
              "      <th>2</th>\n",
              "      <td>who was the main actor in the exorcist</td>\n",
              "      <td>[O, O, O, O, O, O, B_movie, I_movie]</td>\n",
              "    </tr>\n",
              "    <tr>\n",
              "      <th>3</th>\n",
              "      <td>find the female actress from the movie she is ...</td>\n",
              "      <td>[O, O, O, O, O, O, O, B_movie, I_movie, I_movi...</td>\n",
              "    </tr>\n",
              "    <tr>\n",
              "      <th>4</th>\n",
              "      <td>who played dory on finding nemo</td>\n",
              "      <td>[O, O, B_char, O, B_movie, I_movie]</td>\n",
              "    </tr>\n",
              "  </tbody>\n",
              "</table>\n",
              "</div>\n",
              "      <button class=\"colab-df-convert\" onclick=\"convertToInteractive('df-e498fc30-ea26-42d5-b2e3-6067d3948242')\"\n",
              "              title=\"Convert this dataframe to an interactive table.\"\n",
              "              style=\"display:none;\">\n",
              "        \n",
              "  <svg xmlns=\"http://www.w3.org/2000/svg\" height=\"24px\"viewBox=\"0 0 24 24\"\n",
              "       width=\"24px\">\n",
              "    <path d=\"M0 0h24v24H0V0z\" fill=\"none\"/>\n",
              "    <path d=\"M18.56 5.44l.94 2.06.94-2.06 2.06-.94-2.06-.94-.94-2.06-.94 2.06-2.06.94zm-11 1L8.5 8.5l.94-2.06 2.06-.94-2.06-.94L8.5 2.5l-.94 2.06-2.06.94zm10 10l.94 2.06.94-2.06 2.06-.94-2.06-.94-.94-2.06-.94 2.06-2.06.94z\"/><path d=\"M17.41 7.96l-1.37-1.37c-.4-.4-.92-.59-1.43-.59-.52 0-1.04.2-1.43.59L10.3 9.45l-7.72 7.72c-.78.78-.78 2.05 0 2.83L4 21.41c.39.39.9.59 1.41.59.51 0 1.02-.2 1.41-.59l7.78-7.78 2.81-2.81c.8-.78.8-2.07 0-2.86zM5.41 20L4 18.59l7.72-7.72 1.47 1.35L5.41 20z\"/>\n",
              "  </svg>\n",
              "      </button>\n",
              "      \n",
              "  <style>\n",
              "    .colab-df-container {\n",
              "      display:flex;\n",
              "      flex-wrap:wrap;\n",
              "      gap: 12px;\n",
              "    }\n",
              "\n",
              "    .colab-df-convert {\n",
              "      background-color: #E8F0FE;\n",
              "      border: none;\n",
              "      border-radius: 50%;\n",
              "      cursor: pointer;\n",
              "      display: none;\n",
              "      fill: #1967D2;\n",
              "      height: 32px;\n",
              "      padding: 0 0 0 0;\n",
              "      width: 32px;\n",
              "    }\n",
              "\n",
              "    .colab-df-convert:hover {\n",
              "      background-color: #E2EBFA;\n",
              "      box-shadow: 0px 1px 2px rgba(60, 64, 67, 0.3), 0px 1px 3px 1px rgba(60, 64, 67, 0.15);\n",
              "      fill: #174EA6;\n",
              "    }\n",
              "\n",
              "    [theme=dark] .colab-df-convert {\n",
              "      background-color: #3B4455;\n",
              "      fill: #D2E3FC;\n",
              "    }\n",
              "\n",
              "    [theme=dark] .colab-df-convert:hover {\n",
              "      background-color: #434B5C;\n",
              "      box-shadow: 0px 1px 3px 1px rgba(0, 0, 0, 0.15);\n",
              "      filter: drop-shadow(0px 1px 2px rgba(0, 0, 0, 0.3));\n",
              "      fill: #FFFFFF;\n",
              "    }\n",
              "  </style>\n",
              "\n",
              "      <script>\n",
              "        const buttonEl =\n",
              "          document.querySelector('#df-e498fc30-ea26-42d5-b2e3-6067d3948242 button.colab-df-convert');\n",
              "        buttonEl.style.display =\n",
              "          google.colab.kernel.accessAllowed ? 'block' : 'none';\n",
              "\n",
              "        async function convertToInteractive(key) {\n",
              "          const element = document.querySelector('#df-e498fc30-ea26-42d5-b2e3-6067d3948242');\n",
              "          const dataTable =\n",
              "            await google.colab.kernel.invokeFunction('convertToInteractive',\n",
              "                                                     [key], {});\n",
              "          if (!dataTable) return;\n",
              "\n",
              "          const docLinkHtml = 'Like what you see? Visit the ' +\n",
              "            '<a target=\"_blank\" href=https://colab.research.google.com/notebooks/data_table.ipynb>data table notebook</a>'\n",
              "            + ' to learn more about interactive tables.';\n",
              "          element.innerHTML = '';\n",
              "          dataTable['output_type'] = 'display_data';\n",
              "          await google.colab.output.renderOutput(dataTable, element);\n",
              "          const docLink = document.createElement('div');\n",
              "          docLink.innerHTML = docLinkHtml;\n",
              "          element.appendChild(docLink);\n",
              "        }\n",
              "      </script>\n",
              "    </div>\n",
              "  </div>\n",
              "  "
            ]
          },
          "metadata": {},
          "execution_count": 293
        }
      ],
      "source": [
        "train.head()"
      ],
      "id": "9GgdUfefdXaW"
    },
    {
      "cell_type": "code",
      "execution_count": 294,
      "metadata": {
        "id": "DSwsIWPqe0Oh"
      },
      "outputs": [],
      "source": [
        "texts = train['text']\n",
        "labels = train['label']"
      ],
      "id": "DSwsIWPqe0Oh"
    },
    {
      "cell_type": "markdown",
      "metadata": {
        "id": "ZKzdqeDag4zA"
      },
      "source": [
        "## Process Utterances"
      ],
      "id": "ZKzdqeDag4zA"
    },
    {
      "cell_type": "code",
      "execution_count": 295,
      "metadata": {
        "id": "MEYrvHkTSgyD"
      },
      "outputs": [],
      "source": [
        "from collections import defaultdict\n",
        "\n",
        "def tokenize(texts):\n",
        "\n",
        "    max_len = 0\n",
        "    tokenized_texts = []\n",
        "    word2idx = {}\n",
        "    lengths = []\n",
        "\n",
        "    word2idx['<pad>'] = 0\n",
        "    word2idx['<unk>'] = 1\n",
        "\n",
        "    idx = 2\n",
        "    for sent in texts:\n",
        "        tokenized_sent = sent.split(' ')\n",
        "        # lengths.append(len(tokenized_sent))\n",
        "        tokenized_texts.append(tokenized_sent)\n",
        "        for token in tokenized_sent:\n",
        "            if token not in word2idx:\n",
        "                word2idx[token] = idx\n",
        "                idx += 1\n",
        "\n",
        "        max_len = max(max_len, len(tokenized_sent))\n",
        "\n",
        "    return tokenized_texts, word2idx, max_len"
      ],
      "id": "MEYrvHkTSgyD"
    },
    {
      "cell_type": "code",
      "execution_count": 296,
      "metadata": {
        "id": "5rs1gxuDXPc_"
      },
      "outputs": [],
      "source": [
        "tokenized_texts, word2idx, max_len = tokenize(texts)\n",
        "vocab_size = len(word2idx)"
      ],
      "id": "5rs1gxuDXPc_"
    },
    {
      "cell_type": "code",
      "execution_count": 297,
      "metadata": {
        "id": "DYJOhtYPXNmA"
      },
      "outputs": [],
      "source": [
        "def encode(tokenized_texts, word2idx, max_len):\n",
        "    input_ids = []\n",
        "    for tokenized_sent in tokenized_texts:\n",
        "        # Pad sentences to max_len\n",
        "        tokenized_sent += ['<pad>'] * (max_len - len(tokenized_sent))\n",
        "\n",
        "        # Encode tokens to input_ids\n",
        "        input_id = [word2idx.get(token) for token in tokenized_sent]\n",
        "        input_ids.append(input_id)\n",
        "    \n",
        "    return np.array(input_ids)  "
      ],
      "id": "DYJOhtYPXNmA"
    },
    {
      "cell_type": "code",
      "execution_count": 298,
      "metadata": {
        "id": "MU0xZoiAYLsw"
      },
      "outputs": [],
      "source": [
        "input_ids = encode(tokenized_texts, word2idx, max_len)"
      ],
      "id": "MU0xZoiAYLsw"
    },
    {
      "cell_type": "code",
      "execution_count": 299,
      "metadata": {
        "colab": {
          "base_uri": "https://localhost:8080/"
        },
        "id": "al-h7wQmfsUD",
        "outputId": "ad427234-ded0-4fe2-a0a5-2dd2be74365d"
      },
      "outputs": [
        {
          "output_type": "stream",
          "name": "stdout",
          "text": [
            "2247\n"
          ]
        }
      ],
      "source": [
        "print(len(input_ids))"
      ],
      "id": "al-h7wQmfsUD"
    },
    {
      "cell_type": "markdown",
      "metadata": {
        "id": "j8Ud_ga6gyt8"
      },
      "source": [
        "## Process Labels"
      ],
      "id": "j8Ud_ga6gyt8"
    },
    {
      "cell_type": "code",
      "execution_count": 300,
      "metadata": {
        "id": "wnQIbusDd4ru"
      },
      "outputs": [],
      "source": [
        "all_labels = []\n",
        "for label in labels:\n",
        "    all_labels.extend(label)\n",
        "unique_labels = set(all_labels)"
      ],
      "id": "wnQIbusDd4ru"
    },
    {
      "cell_type": "code",
      "execution_count": 301,
      "metadata": {
        "colab": {
          "base_uri": "https://localhost:8080/"
        },
        "id": "PKzTbBaEf1kj",
        "outputId": "567fd95b-abfb-4de7-edf4-e95cd38b1916"
      },
      "outputs": [
        {
          "output_type": "execute_result",
          "data": {
            "text/plain": [
              "27"
            ]
          },
          "metadata": {},
          "execution_count": 301
        }
      ],
      "source": [
        "len(unique_labels)"
      ],
      "id": "PKzTbBaEf1kj"
    },
    {
      "cell_type": "code",
      "execution_count": 302,
      "metadata": {
        "colab": {
          "base_uri": "https://localhost:8080/"
        },
        "id": "SOBqn3nud40o",
        "outputId": "1da41cfb-5e1b-4dbf-d278-3685e34d8524"
      },
      "outputs": [
        {
          "output_type": "stream",
          "name": "stdout",
          "text": [
            "{'<PAD>': 0, 'B_genre': 1, 'I_director': 2, 'B_cast': 3, 'I_subject': 4, 'I_char': 5, 'I_release_year': 6, 'I_country': 7, 'I_mpaa_rating': 8, 'I_person': 9, 'O': 10, 'B_movie': 11, 'B_director': 12, 'B_producer': 13, 'I_language': 14, 'B_person': 15, 'B_release_year': 16, 'I-movie': 17, 'I_cast': 18, 'B_country': 19, 'B_mpaa_rating': 20, 'I_movie': 21, 'B_subject': 22, 'B_location': 23, 'B_language': 24, 'B_char': 25, 'I_producer': 26, 'I_genre': 27}\n"
          ]
        }
      ],
      "source": [
        "label_map = {'<PAD>': 0}\n",
        "for (i, label) in enumerate(unique_labels):\n",
        "    label_map[label] = i+1\n",
        "\n",
        "print(label_map)"
      ],
      "id": "SOBqn3nud40o"
    },
    {
      "cell_type": "code",
      "execution_count": 303,
      "metadata": {
        "id": "X3LBeGISy6dd"
      },
      "outputs": [],
      "source": [
        "def pad_labels(labels, max_len):\n",
        "  null_label = '<PAD>'\n",
        "  padded_labels = []\n",
        "  for label in labels:\n",
        "    label.extend([null_label]*(max_len-len(label)))\n",
        "    padded_labels.append(label)\n",
        "  return padded_labels\n"
      ],
      "id": "X3LBeGISy6dd"
    },
    {
      "cell_type": "code",
      "execution_count": 304,
      "metadata": {
        "id": "rLm3RyMZgPKv"
      },
      "outputs": [],
      "source": [
        "padded_labels = pad_labels(labels, max_len)\n",
        "processed_labels = []\n",
        "for label in padded_labels:\n",
        "  processed_labels.append([label_map[label_token] for label_token in label])"
      ],
      "id": "rLm3RyMZgPKv"
    },
    {
      "cell_type": "markdown",
      "metadata": {
        "id": "PTCd47fFg-AI"
      },
      "source": [
        "## Initialize pretrained word embeddings"
      ],
      "id": "PTCd47fFg-AI"
    },
    {
      "cell_type": "code",
      "execution_count": 305,
      "metadata": {
        "id": "FHSp__e3TdPp"
      },
      "outputs": [],
      "source": [
        "def load_pretrained_vectors(word2idx, fname):\n",
        "    print(\"Loading pretrained vectors...\")\n",
        "    fin = open(fname, 'r', encoding='utf-8', newline='\\n', errors='ignore')\n",
        "    n, d = map(int, fin.readline().split())\n",
        "\n",
        "    # Initilize random embeddings\n",
        "    embeddings = np.random.uniform(-0.25, 0.25, (len(word2idx), d))\n",
        "    embeddings[word2idx['<pad>']] = np.zeros((d,))\n",
        "\n",
        "    # Load pretrained vectors\n",
        "    count = 0\n",
        "    for line in fin:\n",
        "        tokens = line.rstrip().split(' ')\n",
        "        word = tokens[0]\n",
        "        if word in word2idx:\n",
        "            count += 1\n",
        "            embeddings[word2idx[word]] = np.array(tokens[1:], dtype=np.float32)\n",
        "\n",
        "    print(f\"{count} / {len(word2idx)} pretrained vectors found.\")\n",
        "\n",
        "    return embeddings"
      ],
      "id": "FHSp__e3TdPp"
    },
    {
      "cell_type": "code",
      "execution_count": 306,
      "metadata": {
        "colab": {
          "base_uri": "https://localhost:8080/"
        },
        "id": "sNOroxcxU-X0",
        "outputId": "a52ed3b1-a374-4778-9af0-5cf0b7cdd690"
      },
      "outputs": [
        {
          "output_type": "stream",
          "name": "stdout",
          "text": [
            "Loading pretrained vectors...\n",
            "1054 / 1146 pretrained vectors found.\n"
          ]
        }
      ],
      "source": [
        "# Load pretrained vectors\n",
        "embeddings = load_pretrained_vectors(word2idx, \"/content/wiki-news-300d-1M.vec\")\n",
        "embeddings = torch.tensor(embeddings, dtype = torch.float32)"
      ],
      "id": "sNOroxcxU-X0"
    },
    {
      "cell_type": "code",
      "execution_count": 307,
      "metadata": {
        "colab": {
          "base_uri": "https://localhost:8080/"
        },
        "id": "-YU5nR6JMb2L",
        "outputId": "fbe65cca-4bc3-4315-f52d-331036d44282"
      },
      "outputs": [
        {
          "output_type": "execute_result",
          "data": {
            "text/plain": [
              "torch.Size([1146, 300])"
            ]
          },
          "metadata": {},
          "execution_count": 307
        }
      ],
      "source": [
        "# embeddings shape\n",
        "embeddings.shape"
      ],
      "id": "-YU5nR6JMb2L"
    },
    {
      "cell_type": "markdown",
      "metadata": {
        "id": "1_kyNcvFQ7kB"
      },
      "source": [
        "## Split data into train and validation"
      ],
      "id": "1_kyNcvFQ7kB"
    },
    {
      "cell_type": "code",
      "execution_count": 308,
      "metadata": {
        "id": "0Oe6r6OLVPd_"
      },
      "outputs": [],
      "source": [
        "train_inputs, val_inputs, train_labels, val_labels = train_test_split(input_ids, processed_labels, test_size=0.1, random_state=42)"
      ],
      "id": "0Oe6r6OLVPd_"
    },
    {
      "cell_type": "code",
      "execution_count": 309,
      "metadata": {
        "colab": {
          "base_uri": "https://localhost:8080/"
        },
        "id": "nvFvy2xym2JR",
        "outputId": "95eeb460-12ef-40cd-9355-c87881907639"
      },
      "outputs": [
        {
          "output_type": "stream",
          "name": "stdout",
          "text": [
            "2022 225 2022 225\n"
          ]
        }
      ],
      "source": [
        "print(len(train_inputs), len(val_inputs), len(train_labels), len(val_labels))"
      ],
      "id": "nvFvy2xym2JR"
    },
    {
      "cell_type": "markdown",
      "metadata": {
        "id": "kqxzP6tWRAC2"
      },
      "source": [
        "## Create dataset class"
      ],
      "id": "kqxzP6tWRAC2"
    },
    {
      "cell_type": "code",
      "execution_count": 310,
      "metadata": {
        "id": "e7eGHOIG4fTn"
      },
      "outputs": [],
      "source": [
        "class dataset_class(Dataset):\n",
        "    def __init__(self, x_data, y_data):\n",
        "        self.xdata = x_data\n",
        "        self.ydata = y_data\n",
        "    \n",
        "    def encode_text(self, text):\n",
        "        return torch.tensor(text, device=device)\n",
        "\n",
        "    def encode_label(self, label):\n",
        "        return torch.tensor(label, device=device)\n",
        "  \n",
        "    def __getitem__(self, n: int):\n",
        "        # print(n)\n",
        "        text = self.xdata[n]\n",
        "        label = self.ydata[n]\n",
        "        return self.encode_text(text), self.encode_label(label)\n",
        "\n",
        "    def __len__(self):\n",
        "        return len(self.xdata)"
      ],
      "id": "e7eGHOIG4fTn"
    },
    {
      "cell_type": "code",
      "execution_count": 311,
      "metadata": {
        "id": "xwG0zndE5zSl"
      },
      "outputs": [],
      "source": [
        "train_df = dataset_class(train_inputs,train_labels)\n",
        "val_df = dataset_class(val_inputs,val_labels)"
      ],
      "id": "xwG0zndE5zSl"
    },
    {
      "cell_type": "markdown",
      "metadata": {
        "id": "8iJfx-4ERFfL"
      },
      "source": [
        "### Set up dataloader for batch processing"
      ],
      "id": "8iJfx-4ERFfL"
    },
    {
      "cell_type": "code",
      "execution_count": 312,
      "metadata": {
        "id": "w9v9CaXh6LXh"
      },
      "outputs": [],
      "source": [
        "batch_size = 64\n",
        "train_loader = DataLoader(train_df, batch_size=batch_size, shuffle=True)\n",
        "val_loader = DataLoader(val_df, batch_size=batch_size, shuffle=True)"
      ],
      "id": "w9v9CaXh6LXh"
    },
    {
      "cell_type": "markdown",
      "metadata": {
        "id": "N3fU3PiORh-d"
      },
      "source": [
        "## Build Model"
      ],
      "id": "N3fU3PiORh-d"
    },
    {
      "cell_type": "code",
      "execution_count": 313,
      "metadata": {
        "id": "nJESqxLTKogc"
      },
      "outputs": [],
      "source": [
        "import torch.nn as nn\n",
        "from torch.nn.utils.rnn import pack_padded_sequence, pad_packed_sequence\n",
        "class BiLSTMTagger(nn.Module):\n",
        "\n",
        "    def __init__(self, embedding_dim, hidden_dim, output_dim, embeddings):\n",
        "        super(BiLSTMTagger, self).__init__()\n",
        "        self.embeddings = nn.Embedding.from_pretrained(embeddings)\n",
        "        self.lstm = nn.LSTM(embedding_dim, hidden_dim, bidirectional=True, num_layers=1, batch_first = True)\n",
        "        # self.dropout_layer = nn.Dropout(p=0.5)\n",
        "        self.hidden2op = nn.Linear(2*hidden_dim, output_dim)\n",
        "        \n",
        "    def forward(self, text):\n",
        "      embeddings = self.embeddings(text)\n",
        "      lstm_output, _ = self.lstm(embeddings)\n",
        "      # lstm_output = self.dropout_layer(lstm_output)\n",
        "      logits = self.hidden2op(lstm_output)\n",
        "      logits = logits.view(-1, logits.shape[-1])\n",
        "      return logits"
      ],
      "id": "nJESqxLTKogc"
    },
    {
      "cell_type": "code",
      "execution_count": 314,
      "metadata": {
        "id": "SZ4Vhpal_TPP"
      },
      "outputs": [],
      "source": [
        "embedding_dim = 300\n",
        "vocab = 1146\n",
        "hidden_dim = 256\n",
        "unique_classes = len(label_map)\n",
        "model = BiLSTMTagger(embedding_dim, hidden_dim, unique_classes, embeddings=embeddings)  "
      ],
      "id": "SZ4Vhpal_TPP"
    },
    {
      "cell_type": "code",
      "execution_count": 315,
      "metadata": {
        "id": "YQK7kaO_DHRD"
      },
      "outputs": [],
      "source": [
        "def train(loader, model, optimizer, loss_fn):\n",
        "    model.train()\n",
        "    losses = []\n",
        "    pbar = tqdm(loader)\n",
        "    for x, y in pbar:\n",
        "        optimizer.zero_grad()\n",
        "        logits = model(x)\n",
        "        y = y.view(-1)\n",
        "        batch_loss = loss_fn(logits, y)\n",
        "        losses.append(batch_loss.item())\n",
        "        batch_loss.backward() \n",
        "        optimizer.step() \n",
        "    return sum(losses)/len(losses)\n",
        "\n",
        "def scoring_fn(labels, predictions):\n",
        "    predicted_labels_without_mask = []\n",
        "    correct_labels_without_mask = []\n",
        "    for prediction, label in zip(predictions, labels):\n",
        "      for p, c in zip(prediction, label):\n",
        "        if c > 0:\n",
        "          predicted_labels_without_mask.append(p)\n",
        "          correct_labels_without_mask.append(c)\n",
        "    acc_score = accuracy_score(predicted_labels_without_mask, correct_labels_without_mask)\n",
        "    f1 = f1_score(predicted_labels_without_mask, correct_labels_without_mask, average = 'weighted')\n",
        "    return acc_score, f1\n",
        "\n",
        "def evaluate(loader, model, loss_fn):\n",
        "    print('Starting validation')\n",
        "    model.eval()\n",
        "    predictions = []\n",
        "    labels = []\n",
        "    val_losses =[]\n",
        "    for x, y in tqdm(loader):\n",
        "        logits = model(x)\n",
        "        y = y.view(-1)\n",
        "        batch_loss = loss_fn(logits, y)\n",
        "        pred = torch.tensor(logits)\n",
        "        _, pred_indices = torch.max(pred, 1)\n",
        "        predicted_label = list(pred_indices.cpu().numpy())\n",
        "        val_losses.append(batch_loss.item())\n",
        "        predictions.append(predicted_label)\n",
        "        labels.append(y.tolist())\n",
        "    acc_score, f1 = scoring_fn(labels, predictions)\n",
        "    return sum(val_losses)/len(val_losses), acc_score, f1"
      ],
      "id": "YQK7kaO_DHRD"
    },
    {
      "cell_type": "code",
      "execution_count": 316,
      "metadata": {
        "id": "UeoVIUMMDHUR",
        "colab": {
          "base_uri": "https://localhost:8080/"
        },
        "outputId": "65c1b0fd-2a14-4a2f-9b55-6b521edee963"
      },
      "outputs": [
        {
          "output_type": "stream",
          "name": "stdout",
          "text": [
            "Epoch:  0\n"
          ]
        },
        {
          "output_type": "stream",
          "name": "stderr",
          "text": [
            "100%|██████████| 32/32 [00:09<00:00,  3.46it/s]\n"
          ]
        },
        {
          "output_type": "stream",
          "name": "stdout",
          "text": [
            "Train loss:  [1.7189413718879223]\n",
            "Starting validation\n"
          ]
        },
        {
          "output_type": "stream",
          "name": "stderr",
          "text": [
            "  0%|          | 0/4 [00:00<?, ?it/s]/usr/local/lib/python3.7/dist-packages/ipykernel_launcher.py:37: UserWarning: To copy construct from a tensor, it is recommended to use sourceTensor.clone().detach() or sourceTensor.clone().detach().requires_grad_(True), rather than torch.tensor(sourceTensor).\n",
            "100%|██████████| 4/4 [00:00<00:00,  7.48it/s]\n"
          ]
        },
        {
          "output_type": "stream",
          "name": "stdout",
          "text": [
            "Val Loss:  [1.0287798345088959]\n",
            "Val accuracy:  0.7338483146067416\n",
            "Val f1 0.8417810549949539\n",
            "Epoch:  1\n"
          ]
        },
        {
          "output_type": "stream",
          "name": "stderr",
          "text": [
            "100%|██████████| 32/32 [00:14<00:00,  2.20it/s]\n"
          ]
        },
        {
          "output_type": "stream",
          "name": "stdout",
          "text": [
            "Train loss:  [1.7189413718879223, 0.9469235651195049]\n",
            "Starting validation\n"
          ]
        },
        {
          "output_type": "stream",
          "name": "stderr",
          "text": [
            "  0%|          | 0/4 [00:00<?, ?it/s]/usr/local/lib/python3.7/dist-packages/ipykernel_launcher.py:37: UserWarning: To copy construct from a tensor, it is recommended to use sourceTensor.clone().detach() or sourceTensor.clone().detach().requires_grad_(True), rather than torch.tensor(sourceTensor).\n",
            "100%|██████████| 4/4 [00:01<00:00,  3.89it/s]\n"
          ]
        },
        {
          "output_type": "stream",
          "name": "stdout",
          "text": [
            "Val Loss:  [1.0287798345088959, 0.8043370246887207]\n",
            "Val accuracy:  0.7675561797752809\n",
            "Val f1 0.845482916090085\n",
            "Epoch:  2\n"
          ]
        },
        {
          "output_type": "stream",
          "name": "stderr",
          "text": [
            "100%|██████████| 32/32 [00:12<00:00,  2.61it/s]\n"
          ]
        },
        {
          "output_type": "stream",
          "name": "stdout",
          "text": [
            "Train loss:  [1.7189413718879223, 0.9469235651195049, 0.6895971372723579]\n",
            "Starting validation\n"
          ]
        },
        {
          "output_type": "stream",
          "name": "stderr",
          "text": [
            "  0%|          | 0/4 [00:00<?, ?it/s]/usr/local/lib/python3.7/dist-packages/ipykernel_launcher.py:37: UserWarning: To copy construct from a tensor, it is recommended to use sourceTensor.clone().detach() or sourceTensor.clone().detach().requires_grad_(True), rather than torch.tensor(sourceTensor).\n",
            "100%|██████████| 4/4 [00:00<00:00, 12.90it/s]\n"
          ]
        },
        {
          "output_type": "stream",
          "name": "stdout",
          "text": [
            "Val Loss:  [1.0287798345088959, 0.8043370246887207, 0.5241616144776344]\n",
            "Val accuracy:  0.8335674157303371\n",
            "Val f1 0.8710625001540948\n",
            "Epoch:  3\n"
          ]
        },
        {
          "output_type": "stream",
          "name": "stderr",
          "text": [
            "100%|██████████| 32/32 [00:06<00:00,  4.71it/s]\n"
          ]
        },
        {
          "output_type": "stream",
          "name": "stdout",
          "text": [
            "Train loss:  [1.7189413718879223, 0.9469235651195049, 0.6895971372723579, 0.4615902425721288]\n",
            "Starting validation\n"
          ]
        },
        {
          "output_type": "stream",
          "name": "stderr",
          "text": [
            "  0%|          | 0/4 [00:00<?, ?it/s]/usr/local/lib/python3.7/dist-packages/ipykernel_launcher.py:37: UserWarning: To copy construct from a tensor, it is recommended to use sourceTensor.clone().detach() or sourceTensor.clone().detach().requires_grad_(True), rather than torch.tensor(sourceTensor).\n",
            "100%|██████████| 4/4 [00:00<00:00, 13.66it/s]\n"
          ]
        },
        {
          "output_type": "stream",
          "name": "stdout",
          "text": [
            "Val Loss:  [1.0287798345088959, 0.8043370246887207, 0.5241616144776344, 0.37048500776290894]\n",
            "Val accuracy:  0.8960674157303371\n",
            "Val f1 0.9056212010130118\n",
            "Epoch:  4\n"
          ]
        },
        {
          "output_type": "stream",
          "name": "stderr",
          "text": [
            "100%|██████████| 32/32 [00:06<00:00,  4.72it/s]\n"
          ]
        },
        {
          "output_type": "stream",
          "name": "stdout",
          "text": [
            "Train loss:  [1.7189413718879223, 0.9469235651195049, 0.6895971372723579, 0.4615902425721288, 0.32093217177316546]\n",
            "Starting validation\n"
          ]
        },
        {
          "output_type": "stream",
          "name": "stderr",
          "text": [
            "  0%|          | 0/4 [00:00<?, ?it/s]/usr/local/lib/python3.7/dist-packages/ipykernel_launcher.py:37: UserWarning: To copy construct from a tensor, it is recommended to use sourceTensor.clone().detach() or sourceTensor.clone().detach().requires_grad_(True), rather than torch.tensor(sourceTensor).\n",
            "100%|██████████| 4/4 [00:00<00:00, 12.86it/s]\n"
          ]
        },
        {
          "output_type": "stream",
          "name": "stdout",
          "text": [
            "Val Loss:  [1.0287798345088959, 0.8043370246887207, 0.5241616144776344, 0.37048500776290894, 0.278659213334322]\n",
            "Val accuracy:  0.9220505617977528\n",
            "Val f1 0.9268097514342135\n",
            "Epoch:  5\n"
          ]
        },
        {
          "output_type": "stream",
          "name": "stderr",
          "text": [
            "100%|██████████| 32/32 [00:06<00:00,  4.65it/s]\n"
          ]
        },
        {
          "output_type": "stream",
          "name": "stdout",
          "text": [
            "Train loss:  [1.7189413718879223, 0.9469235651195049, 0.6895971372723579, 0.4615902425721288, 0.32093217177316546, 0.24310213001444936]\n",
            "Starting validation\n"
          ]
        },
        {
          "output_type": "stream",
          "name": "stderr",
          "text": [
            "  0%|          | 0/4 [00:00<?, ?it/s]/usr/local/lib/python3.7/dist-packages/ipykernel_launcher.py:37: UserWarning: To copy construct from a tensor, it is recommended to use sourceTensor.clone().detach() or sourceTensor.clone().detach().requires_grad_(True), rather than torch.tensor(sourceTensor).\n",
            "100%|██████████| 4/4 [00:00<00:00, 13.65it/s]\n"
          ]
        },
        {
          "output_type": "stream",
          "name": "stdout",
          "text": [
            "Val Loss:  [1.0287798345088959, 0.8043370246887207, 0.5241616144776344, 0.37048500776290894, 0.278659213334322, 0.21841861307621002]\n",
            "Val accuracy:  0.9382022471910112\n",
            "Val f1 0.9403453211654796\n",
            "Epoch:  6\n"
          ]
        },
        {
          "output_type": "stream",
          "name": "stderr",
          "text": [
            "100%|██████████| 32/32 [00:06<00:00,  4.77it/s]\n"
          ]
        },
        {
          "output_type": "stream",
          "name": "stdout",
          "text": [
            "Train loss:  [1.7189413718879223, 0.9469235651195049, 0.6895971372723579, 0.4615902425721288, 0.32093217177316546, 0.24310213001444936, 0.19856295362114906]\n",
            "Starting validation\n"
          ]
        },
        {
          "output_type": "stream",
          "name": "stderr",
          "text": [
            "  0%|          | 0/4 [00:00<?, ?it/s]/usr/local/lib/python3.7/dist-packages/ipykernel_launcher.py:37: UserWarning: To copy construct from a tensor, it is recommended to use sourceTensor.clone().detach() or sourceTensor.clone().detach().requires_grad_(True), rather than torch.tensor(sourceTensor).\n",
            "100%|██████████| 4/4 [00:00<00:00, 13.45it/s]\n"
          ]
        },
        {
          "output_type": "stream",
          "name": "stdout",
          "text": [
            "Val Loss:  [1.0287798345088959, 0.8043370246887207, 0.5241616144776344, 0.37048500776290894, 0.278659213334322, 0.21841861307621002, 0.18961532413959503]\n",
            "Val accuracy:  0.9466292134831461\n",
            "Val f1 0.9475908213103971\n",
            "Epoch:  7\n"
          ]
        },
        {
          "output_type": "stream",
          "name": "stderr",
          "text": [
            "100%|██████████| 32/32 [00:06<00:00,  4.78it/s]\n"
          ]
        },
        {
          "output_type": "stream",
          "name": "stdout",
          "text": [
            "Train loss:  [1.7189413718879223, 0.9469235651195049, 0.6895971372723579, 0.4615902425721288, 0.32093217177316546, 0.24310213001444936, 0.19856295362114906, 0.15916925156489015]\n",
            "Starting validation\n"
          ]
        },
        {
          "output_type": "stream",
          "name": "stderr",
          "text": [
            "  0%|          | 0/4 [00:00<?, ?it/s]/usr/local/lib/python3.7/dist-packages/ipykernel_launcher.py:37: UserWarning: To copy construct from a tensor, it is recommended to use sourceTensor.clone().detach() or sourceTensor.clone().detach().requires_grad_(True), rather than torch.tensor(sourceTensor).\n",
            "100%|██████████| 4/4 [00:00<00:00, 12.18it/s]\n"
          ]
        },
        {
          "output_type": "stream",
          "name": "stdout",
          "text": [
            "Val Loss:  [1.0287798345088959, 0.8043370246887207, 0.5241616144776344, 0.37048500776290894, 0.278659213334322, 0.21841861307621002, 0.18961532413959503, 0.15192684903740883]\n",
            "Val accuracy:  0.9564606741573034\n",
            "Val f1 0.9565311754118853\n",
            "Epoch:  8\n"
          ]
        },
        {
          "output_type": "stream",
          "name": "stderr",
          "text": [
            "100%|██████████| 32/32 [00:06<00:00,  4.71it/s]\n"
          ]
        },
        {
          "output_type": "stream",
          "name": "stdout",
          "text": [
            "Train loss:  [1.7189413718879223, 0.9469235651195049, 0.6895971372723579, 0.4615902425721288, 0.32093217177316546, 0.24310213001444936, 0.19856295362114906, 0.15916925156489015, 0.1384061025455594]\n",
            "Starting validation\n"
          ]
        },
        {
          "output_type": "stream",
          "name": "stderr",
          "text": [
            "  0%|          | 0/4 [00:00<?, ?it/s]/usr/local/lib/python3.7/dist-packages/ipykernel_launcher.py:37: UserWarning: To copy construct from a tensor, it is recommended to use sourceTensor.clone().detach() or sourceTensor.clone().detach().requires_grad_(True), rather than torch.tensor(sourceTensor).\n",
            "100%|██████████| 4/4 [00:00<00:00, 13.26it/s]"
          ]
        },
        {
          "output_type": "stream",
          "name": "stdout",
          "text": [
            "Val Loss:  [1.0287798345088959, 0.8043370246887207, 0.5241616144776344, 0.37048500776290894, 0.278659213334322, 0.21841861307621002, 0.18961532413959503, 0.15192684903740883, 0.1435908656567335]\n",
            "Val accuracy:  0.9585674157303371\n",
            "Val f1 0.9598930842186316\n",
            "Best F1:  0.9598930842186316\n"
          ]
        },
        {
          "output_type": "stream",
          "name": "stderr",
          "text": [
            "\n"
          ]
        }
      ],
      "source": [
        "optimizer = torch.optim.Adam(model.parameters(), lr=0.001)\n",
        "loss_fn = nn.CrossEntropyLoss(ignore_index=0)\n",
        "n_epochs = 9\n",
        "best_f1 = 0\n",
        "epoch_training_loss = []\n",
        "epoch_validation_loss = []\n",
        "validation_accuracy = []\n",
        "validation_f1 = []\n",
        "\n",
        "for epoch in range(n_epochs):\n",
        "    print('Epoch: ', epoch)\n",
        "    train_loss = train(train_loader, model, optimizer, loss_fn)\n",
        "    epoch_training_loss.append(train_loss)\n",
        "    print('Train loss: ', epoch_training_loss)\n",
        "    val_loss, accuracy, f1 = evaluate(val_loader, model, loss_fn)\n",
        "    epoch_validation_loss.append(val_loss)\n",
        "    validation_accuracy.append(accuracy)\n",
        "    validation_f1.append(f1)\n",
        "    print('Val Loss: ', epoch_validation_loss)\n",
        "    print('Val accuracy: ', accuracy)\n",
        "    print('Val f1', f1)\n",
        "    if f1 > best_f1:\n",
        "        best_f1 = f1\n",
        "\n",
        "print('Best F1: ', best_f1)"
      ],
      "id": "UeoVIUMMDHUR"
    },
    {
      "cell_type": "code",
      "execution_count": 317,
      "metadata": {
        "colab": {
          "base_uri": "https://localhost:8080/"
        },
        "id": "GD37K7T4ZfD_",
        "outputId": "cb71a9fc-eee8-4bc2-907d-188acb5d12a1"
      },
      "outputs": [
        {
          "output_type": "execute_result",
          "data": {
            "text/plain": [
              "0.9598930842186316"
            ]
          },
          "metadata": {},
          "execution_count": 317
        }
      ],
      "source": [
        "best_f1"
      ],
      "id": "GD37K7T4ZfD_"
    },
    {
      "cell_type": "markdown",
      "metadata": {
        "id": "umM-oOFyRZz3"
      },
      "source": [
        "## Visualize Training loss, validation loss and validation F1"
      ],
      "id": "umM-oOFyRZz3"
    },
    {
      "cell_type": "code",
      "execution_count": 318,
      "metadata": {
        "colab": {
          "base_uri": "https://localhost:8080/",
          "height": 301
        },
        "id": "37mDjqVFDHoy",
        "outputId": "313be557-fdcd-48d2-d01e-398c343df01e"
      },
      "outputs": [
        {
          "output_type": "execute_result",
          "data": {
            "text/plain": [
              "<Figure size 432x288 with 0 Axes>"
            ]
          },
          "metadata": {},
          "execution_count": 318
        },
        {
          "output_type": "display_data",
          "data": {
            "text/plain": [
              "<Figure size 432x288 with 1 Axes>"
            ],
            "image/png": "[encoded data removed]"
          },
          "metadata": {
            "needs_background": "light"
          }
        },
        {
          "output_type": "display_data",
          "data": {
            "text/plain": [
              "<Figure size 432x288 with 0 Axes>"
            ]
          },
          "metadata": {}
        }
      ],
      "source": [
        "epoch_range = range(epoch+1)\n",
        "\n",
        "plt.plot(epoch_range, epoch_training_loss, 'b', label='Training loss')\n",
        "plt.legend()\n",
        "plt.figure()"
      ],
      "id": "37mDjqVFDHoy"
    },
    {
      "cell_type": "code",
      "execution_count": 319,
      "metadata": {
        "colab": {
          "base_uri": "https://localhost:8080/",
          "height": 301
        },
        "id": "7081t47vG_8q",
        "outputId": "4abdba6c-ebe1-439b-9795-3284a9896ed2"
      },
      "outputs": [
        {
          "output_type": "execute_result",
          "data": {
            "text/plain": [
              "<Figure size 432x288 with 0 Axes>"
            ]
          },
          "metadata": {},
          "execution_count": 319
        },
        {
          "output_type": "display_data",
          "data": {
            "text/plain": [
              "<Figure size 432x288 with 1 Axes>"
            ],
            "image/png": "[encoded data removed]"
          },
          "metadata": {
            "needs_background": "light"
          }
        },
        {
          "output_type": "display_data",
          "data": {
            "text/plain": [
              "<Figure size 432x288 with 0 Axes>"
            ]
          },
          "metadata": {}
        }
      ],
      "source": [
        "epoch_range = range(epoch+1)\n",
        "\n",
        "plt.plot(epoch_range, epoch_validation_loss, 'b', label='Validation loss')\n",
        "plt.legend()\n",
        "plt.figure()"
      ],
      "id": "7081t47vG_8q"
    },
    {
      "cell_type": "code",
      "execution_count": 320,
      "metadata": {
        "colab": {
          "base_uri": "https://localhost:8080/",
          "height": 301
        },
        "id": "1Uf-2lXGVih8",
        "outputId": "28c2cea7-15ee-49b5-e657-c48e57c99959"
      },
      "outputs": [
        {
          "output_type": "execute_result",
          "data": {
            "text/plain": [
              "<Figure size 432x288 with 0 Axes>"
            ]
          },
          "metadata": {},
          "execution_count": 320
        },
        {
          "output_type": "display_data",
          "data": {
            "text/plain": [
              "<Figure size 432x288 with 1 Axes>"
            ],
            "image/png": "[encoded data removed]"
          },
          "metadata": {
            "needs_background": "light"
          }
        },
        {
          "output_type": "display_data",
          "data": {
            "text/plain": [
              "<Figure size 432x288 with 0 Axes>"
            ]
          },
          "metadata": {}
        }
      ],
      "source": [
        "plt.plot(epoch_range, validation_f1, 'b', label='Validation F1')\n",
        "plt.legend()\n",
        "plt.figure()"
      ],
      "id": "1Uf-2lXGVih8"
    },
    {
      "cell_type": "markdown",
      "metadata": {
        "id": "xvHY_8LFRhg-"
      },
      "source": [
        "## Run Inference"
      ],
      "id": "xvHY_8LFRhg-"
    },
    {
      "cell_type": "code",
      "execution_count": 321,
      "metadata": {
        "colab": {
          "base_uri": "https://localhost:8080/",
          "height": 224
        },
        "id": "vu1uIkv2AjJC",
        "outputId": "431f5c74-5547-4174-8890-2a9cb49e8d7b"
      },
      "outputs": [
        {
          "output_type": "stream",
          "name": "stdout",
          "text": [
            "Test Samples:  981\n"
          ]
        },
        {
          "output_type": "execute_result",
          "data": {
            "text/plain": [
              "   ID                               UTTERANCES\n",
              "0   0                             star of thor\n",
              "1   1         who is in the movie the campaign\n",
              "2   2  list the cast of the movie the campaign\n",
              "3   3                      who was in twilight\n",
              "4   4                       who is in vulguria"
            ],
            "text/html": [
              "\n",
              "  <div id=\"df-fe56e17b-a0a6-4e0d-aa3e-0e73afbef5ac\">\n",
              "    <div class=\"colab-df-container\">\n",
              "      <div>\n",
              "<style scoped>\n",
              "    .dataframe tbody tr th:only-of-type {\n",
              "        vertical-align: middle;\n",
              "    }\n",
              "\n",
              "    .dataframe tbody tr th {\n",
              "        vertical-align: top;\n",
              "    }\n",
              "\n",
              "    .dataframe thead th {\n",
              "        text-align: right;\n",
              "    }\n",
              "</style>\n",
              "<table border=\"1\" class=\"dataframe\">\n",
              "  <thead>\n",
              "    <tr style=\"text-align: right;\">\n",
              "      <th></th>\n",
              "      <th>ID</th>\n",
              "      <th>UTTERANCES</th>\n",
              "    </tr>\n",
              "  </thead>\n",
              "  <tbody>\n",
              "    <tr>\n",
              "      <th>0</th>\n",
              "      <td>0</td>\n",
              "      <td>star of thor</td>\n",
              "    </tr>\n",
              "    <tr>\n",
              "      <th>1</th>\n",
              "      <td>1</td>\n",
              "      <td>who is in the movie the campaign</td>\n",
              "    </tr>\n",
              "    <tr>\n",
              "      <th>2</th>\n",
              "      <td>2</td>\n",
              "      <td>list the cast of the movie the campaign</td>\n",
              "    </tr>\n",
              "    <tr>\n",
              "      <th>3</th>\n",
              "      <td>3</td>\n",
              "      <td>who was in twilight</td>\n",
              "    </tr>\n",
              "    <tr>\n",
              "      <th>4</th>\n",
              "      <td>4</td>\n",
              "      <td>who is in vulguria</td>\n",
              "    </tr>\n",
              "  </tbody>\n",
              "</table>\n",
              "</div>\n",
              "      <button class=\"colab-df-convert\" onclick=\"convertToInteractive('df-fe56e17b-a0a6-4e0d-aa3e-0e73afbef5ac')\"\n",
              "              title=\"Convert this dataframe to an interactive table.\"\n",
              "              style=\"display:none;\">\n",
              "        \n",
              "  <svg xmlns=\"http://www.w3.org/2000/svg\" height=\"24px\"viewBox=\"0 0 24 24\"\n",
              "       width=\"24px\">\n",
              "    <path d=\"M0 0h24v24H0V0z\" fill=\"none\"/>\n",
              "    <path d=\"M18.56 5.44l.94 2.06.94-2.06 2.06-.94-2.06-.94-.94-2.06-.94 2.06-2.06.94zm-11 1L8.5 8.5l.94-2.06 2.06-.94-2.06-.94L8.5 2.5l-.94 2.06-2.06.94zm10 10l.94 2.06.94-2.06 2.06-.94-2.06-.94-.94-2.06-.94 2.06-2.06.94z\"/><path d=\"M17.41 7.96l-1.37-1.37c-.4-.4-.92-.59-1.43-.59-.52 0-1.04.2-1.43.59L10.3 9.45l-7.72 7.72c-.78.78-.78 2.05 0 2.83L4 21.41c.39.39.9.59 1.41.59.51 0 1.02-.2 1.41-.59l7.78-7.78 2.81-2.81c.8-.78.8-2.07 0-2.86zM5.41 20L4 18.59l7.72-7.72 1.47 1.35L5.41 20z\"/>\n",
              "  </svg>\n",
              "      </button>\n",
              "      \n",
              "  <style>\n",
              "    .colab-df-container {\n",
              "      display:flex;\n",
              "      flex-wrap:wrap;\n",
              "      gap: 12px;\n",
              "    }\n",
              "\n",
              "    .colab-df-convert {\n",
              "      background-color: #E8F0FE;\n",
              "      border: none;\n",
              "      border-radius: 50%;\n",
              "      cursor: pointer;\n",
              "      display: none;\n",
              "      fill: #1967D2;\n",
              "      height: 32px;\n",
              "      padding: 0 0 0 0;\n",
              "      width: 32px;\n",
              "    }\n",
              "\n",
              "    .colab-df-convert:hover {\n",
              "      background-color: #E2EBFA;\n",
              "      box-shadow: 0px 1px 2px rgba(60, 64, 67, 0.3), 0px 1px 3px 1px rgba(60, 64, 67, 0.15);\n",
              "      fill: #174EA6;\n",
              "    }\n",
              "\n",
              "    [theme=dark] .colab-df-convert {\n",
              "      background-color: #3B4455;\n",
              "      fill: #D2E3FC;\n",
              "    }\n",
              "\n",
              "    [theme=dark] .colab-df-convert:hover {\n",
              "      background-color: #434B5C;\n",
              "      box-shadow: 0px 1px 3px 1px rgba(0, 0, 0, 0.15);\n",
              "      filter: drop-shadow(0px 1px 2px rgba(0, 0, 0, 0.3));\n",
              "      fill: #FFFFFF;\n",
              "    }\n",
              "  </style>\n",
              "\n",
              "      <script>\n",
              "        const buttonEl =\n",
              "          document.querySelector('#df-fe56e17b-a0a6-4e0d-aa3e-0e73afbef5ac button.colab-df-convert');\n",
              "        buttonEl.style.display =\n",
              "          google.colab.kernel.accessAllowed ? 'block' : 'none';\n",
              "\n",
              "        async function convertToInteractive(key) {\n",
              "          const element = document.querySelector('#df-fe56e17b-a0a6-4e0d-aa3e-0e73afbef5ac');\n",
              "          const dataTable =\n",
              "            await google.colab.kernel.invokeFunction('convertToInteractive',\n",
              "                                                     [key], {});\n",
              "          if (!dataTable) return;\n",
              "\n",
              "          const docLinkHtml = 'Like what you see? Visit the ' +\n",
              "            '<a target=\"_blank\" href=https://colab.research.google.com/notebooks/data_table.ipynb>data table notebook</a>'\n",
              "            + ' to learn more about interactive tables.';\n",
              "          element.innerHTML = '';\n",
              "          dataTable['output_type'] = 'display_data';\n",
              "          await google.colab.output.renderOutput(dataTable, element);\n",
              "          const docLink = document.createElement('div');\n",
              "          docLink.innerHTML = docLinkHtml;\n",
              "          element.appendChild(docLink);\n",
              "        }\n",
              "      </script>\n",
              "    </div>\n",
              "  </div>\n",
              "  "
            ]
          },
          "metadata": {},
          "execution_count": 321
        }
      ],
      "source": [
        "# Generate test data\n",
        "\n",
        "test = pd.read_csv('Slot-tagging-for-Natural-language-utterance/hw2_test.csv')\n",
        "print('Test Samples: ',test.shape[0])\n",
        "\n",
        "test.head()\n"
      ],
      "id": "vu1uIkv2AjJC"
    },
    {
      "cell_type": "code",
      "execution_count": 322,
      "metadata": {
        "colab": {
          "base_uri": "https://localhost:8080/"
        },
        "id": "I6Pc9VcfMvZJ",
        "outputId": "6873d50a-c5c1-41a0-a4d8-587352b12753"
      },
      "outputs": [
        {
          "output_type": "execute_result",
          "data": {
            "text/plain": [
              "981"
            ]
          },
          "metadata": {},
          "execution_count": 322
        }
      ],
      "source": [
        "test['tokenized_text'] = test['UTTERANCES'].apply(lambda x: x.split(' '))\n",
        "test_texts = test['tokenized_text'].tolist()\n",
        "test_texts\n",
        "test_text_lengths = []\n",
        "test_input_ids = []\n",
        "for sent in test_texts:\n",
        "  test_text_lengths.append(len(sent))\n",
        "  for token in sent:\n",
        "    if word2idx.get(token):\n",
        "      test_input_ids.append(word2idx.get(token))\n",
        "    else:\n",
        "      test_input_ids.append(1)\n",
        "\n",
        "len(test_text_lengths)"
      ],
      "id": "I6Pc9VcfMvZJ"
    },
    {
      "cell_type": "code",
      "execution_count": 323,
      "metadata": {
        "colab": {
          "base_uri": "https://localhost:8080/"
        },
        "id": "mMtp-0aTmYaL",
        "outputId": "ef4f2fa1-47b2-4547-e9e8-09dc1e3b9d14"
      },
      "outputs": [
        {
          "output_type": "stream",
          "name": "stderr",
          "text": [
            "/usr/local/lib/python3.7/dist-packages/ipykernel_launcher.py:5: UserWarning: To copy construct from a tensor, it is recommended to use sourceTensor.clone().detach() or sourceTensor.clone().detach().requires_grad_(True), rather than torch.tensor(sourceTensor).\n",
            "  \"\"\"\n"
          ]
        }
      ],
      "source": [
        "x_test = torch.tensor(test_input_ids)\n",
        "with torch.no_grad():\n",
        "    model.eval()\n",
        "    log_ps = model(x_test)\n",
        "    pred = torch.tensor(log_ps)\n",
        "    _, pred_indices = torch.max(pred, 1)\n",
        "\n",
        "predicted_label = list(pred_indices.cpu().numpy())\n",
        "idx = 0\n",
        "processed_pred = []\n",
        "for length in test_text_lengths:\n",
        "  processed_pred.append(predicted_label[idx:idx+length])\n",
        "  idx += length"
      ],
      "id": "mMtp-0aTmYaL"
    },
    {
      "cell_type": "code",
      "execution_count": 324,
      "metadata": {
        "colab": {
          "base_uri": "https://localhost:8080/"
        },
        "id": "CrVm4X49Ifro",
        "outputId": "0f622320-754d-4d7c-a2fa-4860b8b12a2c"
      },
      "outputs": [
        {
          "output_type": "execute_result",
          "data": {
            "text/plain": [
              "981"
            ]
          },
          "metadata": {},
          "execution_count": 324
        }
      ],
      "source": [
        "# decode labels to original tokens\n",
        "decoded_predictions = []\n",
        "for pred_sent in processed_pred:\n",
        "  decoded_pred = []\n",
        "  for pred in pred_sent:\n",
        "    decoded_pred.extend([k for k, v in label_map.items() if v == pred])\n",
        "  decoded_predictions.append(decoded_pred)\n",
        "  \n",
        "len(decoded_predictions)"
      ],
      "id": "CrVm4X49Ifro"
    },
    {
      "cell_type": "code",
      "execution_count": 325,
      "metadata": {
        "id": "CBEXOWF0dbKx",
        "colab": {
          "base_uri": "https://localhost:8080/"
        },
        "outputId": "47820819-541d-472e-a4c1-74d8a823c406"
      },
      "outputs": [
        {
          "output_type": "execute_result",
          "data": {
            "text/plain": [
              "True"
            ]
          },
          "metadata": {},
          "execution_count": 325
        }
      ],
      "source": [
        "# confirm sequence lengths and label lengths match\n",
        "test['iob'] = decoded_predictions\n",
        "test['IOB Slot tags'] = test['iob'].apply(lambda x: ' '.join(x))\n",
        "test['IOB_length'] = test['IOB Slot tags'].apply(lambda x: len(x.split(' ')))\n",
        "test['utterance_length'] = test['UTTERANCES'].apply(lambda x: len(x.split(' ')))\n",
        "test['IOB_length'].equals(test['utterance_length'])"
      ],
      "id": "CBEXOWF0dbKx"
    },
    {
      "cell_type": "code",
      "execution_count": 329,
      "metadata": {
        "id": "hCC_-uOrufns"
      },
      "outputs": [],
      "source": [
        "test = test[['ID', 'IOB Slot tags']]"
      ],
      "id": "hCC_-uOrufns"
    },
    {
      "cell_type": "code",
      "execution_count": 328,
      "metadata": {
        "id": "_1nFfj0hedWF"
      },
      "outputs": [],
      "source": [
        "test.to_csv('submission.csv',index=False)"
      ],
      "id": "_1nFfj0hedWF"
    },
    {
      "cell_type": "code",
      "execution_count": 328,
      "metadata": {
        "id": "MZsgaCj0ekUA"
      },
      "outputs": [],
      "source": [],
      "id": "MZsgaCj0ekUA"
    }
  ],
  "metadata": {
    "colab": {
      "collapsed_sections": [],
      "provenance": []
    },
    "kernelspec": {
      "display_name": "Python 3 (ipykernel)",
      "language": "python",
      "name": "python3"
    },
    "language_info": {
      "codemirror_mode": {
        "name": "ipython",
        "version": 3
      },
      "file_extension": ".py",
      "mimetype": "text/x-python",
      "name": "python",
      "nbconvert_exporter": "python",
      "pygments_lexer": "ipython3",
      "version": "3.10.5"
    }
  },
  "nbformat": 4,
  "nbformat_minor": 5
}
